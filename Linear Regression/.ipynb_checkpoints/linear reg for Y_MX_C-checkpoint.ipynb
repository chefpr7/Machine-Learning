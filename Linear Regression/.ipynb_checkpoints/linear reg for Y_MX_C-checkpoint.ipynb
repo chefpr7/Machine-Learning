{
 "cells": [
  {
   "cell_type": "code",
   "execution_count": 1,
   "metadata": {},
   "outputs": [],
   "source": [
    "#including libraries"
   ]
  },
  {
   "cell_type": "code",
   "execution_count": 2,
   "metadata": {},
   "outputs": [],
   "source": [
    "import numpy as np\n",
    "from Y_MX_C_Module import LinR as lrm\n",
    "from sklearn.linear_model import LinearRegression"
   ]
  },
  {
   "cell_type": "code",
   "execution_count": 3,
   "metadata": {},
   "outputs": [],
   "source": [
    "#loading file\n",
    "\n",
    "data = np.loadtxt(open('LinearRegressionData.txt',\"rt\"), delimiter = \",\")"
   ]
  },
  {
   "cell_type": "code",
   "execution_count": 4,
   "metadata": {},
   "outputs": [],
   "source": [
    "#object of class LinR\n",
    "train = lrm()"
   ]
  },
  {
   "cell_type": "code",
   "execution_count": 7,
   "metadata": {},
   "outputs": [],
   "source": [
    "X = data[:,:2]\n",
    "Y = data[:,-1:]\n",
    "X = train.normalize(X)"
   ]
  },
  {
   "cell_type": "code",
   "execution_count": 8,
   "metadata": {},
   "outputs": [
    {
     "name": "stdout",
     "output_type": "stream",
     "text": [
      "(32, 2)\n"
     ]
    }
   ],
   "source": [
    "#dividing into training data and test data in the ratio 2:1\n",
    "test_len = X.shape[0]//3\n",
    "X_test = X[:test_len,:]\n",
    "X_train = X[test_len:,:]\n",
    "\n",
    "Y_test = Y[:test_len]\n",
    "Y_train = Y[test_len:]\n",
    "print(X_train.shape)"
   ]
  },
  {
   "cell_type": "code",
   "execution_count": 14,
   "metadata": {},
   "outputs": [
    {
     "data": {
      "text/plain": [
       "(array([[ 1.31415422e-01, -2.26093368e-01],\n",
       "        [-5.09640698e-01, -2.26093368e-01],\n",
       "        [ 5.07908699e-01, -2.26093368e-01],\n",
       "        [-7.43677059e-01, -1.55439190e+00],\n",
       "        [ 1.27107075e+00,  1.10220517e+00],\n",
       "        [-1.99450507e-02,  1.10220517e+00],\n",
       "        [-5.93588523e-01, -2.26093368e-01],\n",
       "        [-7.29685755e-01, -2.26093368e-01],\n",
       "        [-7.89466782e-01, -2.26093368e-01],\n",
       "        [-6.44465993e-01, -2.26093368e-01],\n",
       "        [-7.71822042e-02,  1.10220517e+00],\n",
       "        [-8.65999486e-04, -2.26093368e-01],\n",
       "        [-1.40779041e-01, -2.26093368e-01],\n",
       "        [ 3.15099326e+00,  2.43050370e+00],\n",
       "        [-9.31923697e-01, -2.26093368e-01]]), array([[399900.],\n",
       "        [329900.],\n",
       "        [369000.],\n",
       "        [232000.],\n",
       "        [539900.],\n",
       "        [299900.],\n",
       "        [314900.],\n",
       "        [198999.],\n",
       "        [212000.],\n",
       "        [242500.],\n",
       "        [239999.],\n",
       "        [347000.],\n",
       "        [329999.],\n",
       "        [699900.],\n",
       "        [259900.]]))"
      ]
     },
     "execution_count": 14,
     "metadata": {},
     "output_type": "execute_result"
    }
   ],
   "source": [
    "X_test, Y_test"
   ]
  },
  {
   "cell_type": "code",
   "execution_count": 9,
   "metadata": {},
   "outputs": [],
   "source": [
    "#training object created \n",
    "train.fitt(X_train,Y_train)"
   ]
  },
  {
   "cell_type": "code",
   "execution_count": 10,
   "metadata": {},
   "outputs": [
    {
     "name": "stdout",
     "output_type": "stream",
     "text": [
      "Accuracy of prediction :  94.02443596329663 %\n"
     ]
    }
   ],
   "source": [
    "#Predicted values of Y for the test data & check accuracy\n",
    "Y_pred = train.predict(X_test)\n",
    "acc = train.accuracy(Y_test,Y_pred)\n",
    "print(\"Accuracy of prediction : \",acc,\"%\")"
   ]
  },
  {
   "cell_type": "code",
   "execution_count": 11,
   "metadata": {},
   "outputs": [
    {
     "name": "stdout",
     "output_type": "stream",
     "text": [
      "accuracy using sklearn =  93.90816216936064 %\n"
     ]
    }
   ],
   "source": [
    "#to check accuracy with sklearn\n",
    "reg_using_sklearn = LinearRegression()\n",
    "reg_using_sklearn.fit(X_train,Y_train)\n",
    "Y_pred=reg_using_sklearn.predict(X_test)\n",
    "Error=(Y_pred-Y_test)*100/Y_test\n",
    "Accuracy=100 - np.mean(Error)\n",
    "print(\"accuracy using sklearn = \",Accuracy,\"%\")"
   ]
  },
  {
   "cell_type": "code",
   "execution_count": null,
   "metadata": {},
   "outputs": [],
   "source": []
  }
 ],
 "metadata": {
  "kernelspec": {
   "display_name": "Python 3",
   "language": "python",
   "name": "python3"
  },
  "language_info": {
   "codemirror_mode": {
    "name": "ipython",
    "version": 3
   },
   "file_extension": ".py",
   "mimetype": "text/x-python",
   "name": "python",
   "nbconvert_exporter": "python",
   "pygments_lexer": "ipython3",
   "version": "3.7.3"
  }
 },
 "nbformat": 4,
 "nbformat_minor": 2
}
